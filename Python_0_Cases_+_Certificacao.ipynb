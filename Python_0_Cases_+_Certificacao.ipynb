{
  "nbformat": 4,
  "nbformat_minor": 0,
  "metadata": {
    "colab": {
      "provenance": [],
      "collapsed_sections": [
        "s7GVtI63aEvh",
        "mFCSUDTOZ_BM",
        "6Ul_h_Sem4x9",
        "bq775NYqQYto",
        "4nF0a97CsMiz"
      ],
      "authorship_tag": "ABX9TyO1giiArKe8EmeDsauzfCPb",
      "include_colab_link": true
    },
    "kernelspec": {
      "name": "python3",
      "display_name": "Python 3"
    },
    "language_info": {
      "name": "python"
    }
  },
  "cells": [
    {
      "cell_type": "markdown",
      "metadata": {
        "id": "view-in-github",
        "colab_type": "text"
      },
      "source": [
        "<a href=\"https://colab.research.google.com/github/lualuanna/arquivos-menos-legais/blob/main/Python_0_Cases_%2B_Certificacao.ipynb\" target=\"_parent\"><img src=\"https://colab.research.google.com/assets/colab-badge.svg\" alt=\"Open In Colab\"/></a>"
      ]
    },
    {
      "cell_type": "markdown",
      "source": [
        "# Case 1"
      ],
      "metadata": {
        "id": "s7GVtI63aEvh"
      }
    },
    {
      "cell_type": "markdown",
      "source": [
        "Questão 1 - Uma empresa te enviou 3 listas, uma representa a largura, outra representa a altura e a terceira representa a área em m2 de determinado terreno, todas estão ordenadas entretanto tem alguns valores faltantes que precisam ser preenchidos, preencha os valores faltantes: Todos os terrenos dessa empresa são retangulares e você pode utilizar a fórmula abaixo: a = b. h (área = largura * altura) Utilize as listas abaixo: area = [200,'null',720,1500,1000,275,'null',1200,2400,'null'] altura = ['null',30,40,30,10,25,33,'null',12,20] largura = [20,20,'null',50,100,'null',30,100,200,10]"
      ],
      "metadata": {
        "id": "Lv1gK3SJbhe4"
      }
    },
    {
      "cell_type": "markdown",
      "source": [
        "Questão 2 - Geralmente os Terrenos possuem maior altura ou largura? Utilize as listas completas geradas no exercício anterior"
      ],
      "metadata": {
        "id": "MBDSWTWOa7lk"
      }
    },
    {
      "cell_type": "markdown",
      "source": [
        "Questão 3 - Quantos metros a empresa tem no total e qual é a média de tamanho dos terrenos? Utilize as listas completas geradas no primeiro exercício"
      ],
      "metadata": {
        "id": "kt_8QsZsbF3v"
      }
    },
    {
      "cell_type": "markdown",
      "source": [
        "# Case 2"
      ],
      "metadata": {
        "id": "mFCSUDTOZ_BM"
      }
    },
    {
      "cell_type": "markdown",
      "source": [
        "\n",
        "Questão 1 - Você recebeu um arquivo chamado usuarios_feedback, nesse arquivo contém o comentário, nome, gênero e nota de usuários referente a um produto de sua empresas. Você precisa verificar quais as palavras que mais apareceram nos comentários: usuarios_feedback = [{'nome':'Peter','nota':9,'genero':'M','comentario':'bom demais e agil'}, {'nome':'Joao','nota':10,'genero':'M','comentario':'agil e eficiente'}, {'nome':'user_not_found','nota':0,'genero':'M','comentario':'Horrível'}, {'nome':'Marta','nota':10,'genero':'F','comentario':'muito agil bom demais'}, {'nome':'Beatriz','nota':10,'genero':'F','comentario':'rápido e eficaz'}, {'nome':'user_not_found','nota':2,'genero':'M','comentario':'ruim'}, {'nome':'Jéssica','nota':10,'genero':'F','comentario':'agil'}, {'nome':'José','nota':7,'genero':'M','comentario':'ok'}, {'nome':'Elias','nota':5,'genero':'M','comentario':'precisa melhorar'}, {'nome':'Miriã','nota':9,'genero':'F','comentario':'foi muito agil e rápido'}, {'nome':'Maria','nota':10,'genero':'F','comentario':'muito bom e agil'}]"
      ],
      "metadata": {
        "id": "c8iT3X1EbZeM"
      }
    },
    {
      "cell_type": "markdown",
      "source": [
        "Questão 2 - Usando o mesmo arquivo, calcular a média das notas separadas por gênero: usuarios_feedback = [{'nome':'Peter','nota':9,'genero':'M','comentario':'bom demais e agil'}, {'nome':'Joao','nota':10,'genero':'M','comentario':'agil e eficiente'}, {'nome':'user_not_found','nota':0,'genero':'M','comentario':'Horrível'}, {'nome':'Marta','nota':10,'genero':'F','comentario':'muito agil bom demais'}, {'nome':'Beatriz','nota':10,'genero':'F','comentario':'rápido e eficaz'}, {'nome':'user_not_found','nota':2,'genero':'M','comentario':'ruim'}, {'nome':'Jéssica','nota':10,'genero':'F','comentario':'agil'}, {'nome':'José','nota':7,'genero':'M','comentario':'ok'}, {'nome':'Elias','nota':5,'genero':'M','comentario':'precisa melhorar'}, {'nome':'Miriã','nota':9,'genero':'F','comentario':'foi muito agil e rápido'}, {'nome':'Maria','nota':10,'genero':'F','comentario':'muito bom e agil'}]"
      ],
      "metadata": {
        "id": "KqB1U2jMbqKV"
      }
    },
    {
      "cell_type": "markdown",
      "source": [
        "\n",
        "# Case 3\n",
        "Sua empresa te passou uma lista com requisições de treinamentos (muitos repetidos), você tem que definir o cenário que melhor atenda os pedidos, o budget é de 150 moedas e você tem um dicionário que contém o nome do treinamento e o valor dele\n",
        "\n",
        "```\n",
        "treinamentos = [{'treinamento':'Scrum','moedas':30}, \n",
        "{'treinamento':'Data Science','moedas':40},\n",
        "{'treinamento':'Gestão de Projetos','moedas':50}, {'treinamento':'Marketing','moedas':30},\n",
        "{'treinamento':'Cloud','moedas':20},\n",
        "{'treinamento':'Blockchain','moedas':10}, \n",
        "{'treinamento':'Python','moedas':30}]\n",
        "\n",
        "pedidos = ['Scrum','Data Science','Gestão de Projetos','Marketing','Cloud','Python','Python','Python', 'Scrum','Data Science','Gestão de Projetos','Marketing','Data Science','Gestão de Projetos', 'Python','Marketing','Data Science','Gestão de Projetos','Data Science','Gestão de Projetos','Data Science']\n",
        "```\n",
        "\n",
        "\n"
      ],
      "metadata": {
        "id": "6Ul_h_Sem4x9"
      }
    },
    {
      "cell_type": "code",
      "source": [
        "#Rascunho Dicionários\n",
        "pessoas=[{'nome': 'Luanna', 'idade': 27}, {'nome': 'Julio', 'idade': 27}]\n",
        "#for p in pessoas:\n",
        "#   for k in p.keys():\n",
        "#      print(k)\n",
        "#      print(f\"{p['nome']} tem {p['idade']} anos\")\n",
        "\n",
        "#MELHOR FAZER:\n",
        "for i, p in enumerate(pessoas):\n",
        "      print(f\"O nome da {i+1}ª pessoa é {p['nome']} e tem {p['idade']} anos\")"
      ],
      "metadata": {
        "colab": {
          "base_uri": "https://localhost:8080/"
        },
        "id": "1SnqVpcXxozV",
        "outputId": "fc44db2e-ff3f-4cbf-f18e-f3632fed60ab"
      },
      "execution_count": null,
      "outputs": [
        {
          "output_type": "stream",
          "name": "stdout",
          "text": [
            "O nome da 1ª pessoa é Luanna e tem 27 anos\n",
            "O nome da 2ª pessoa é Julio e tem 27 anos\n"
          ]
        }
      ]
    },
    {
      "cell_type": "markdown",
      "source": [
        "# Resolução Case 3"
      ],
      "metadata": {
        "id": "bq775NYqQYto"
      }
    },
    {
      "cell_type": "code",
      "source": [
        "\n",
        "budget=150\n",
        "custos= [{'treinamento':'Scrum','moedas':30}, {'treinamento':'Data Science','moedas':40}, {'treinamento':'Gestão de Projetos','moedas':50}, {'treinamento':'Marketing','moedas':30}, {'treinamento':'Cloud','moedas':20}, {'treinamento':'Blockchain','moedas':10}, {'treinamento':'Python','moedas':30}]\n",
        "requisi= ['Scrum','Data Science','Gestão de Projetos','Marketing','Cloud','Python','Python','Python', 'Scrum','Data Science','Gestão de Projetos','Marketing','Data Science','Gestão de Projetos', 'Python','Marketing','Data Science','Gestão de Projetos','Data Science','Gestão de Projetos','Data Science']\n",
        "qtdd={}\n",
        "listu=[]\n",
        "#print(len(requisi))\n",
        "#for ind, val in enumerate(requisi):\n",
        "#  qtd[ind] = requisi.count(val)\n",
        "#  listu.append((qtd.copy()))\n",
        "for i in range(0, len(requisi)):\n",
        "   qtdd[requisi[i]]= requisi.count(requisi[i])\n",
        "   i+=1\n",
        "   #for k, v in qtdd.items():\n",
        "print(qtdd)\n",
        "for k, v in qtdd.items():\n",
        "    listu.append(k)\n",
        "requisi=listu\n",
        "print(requisi)\n",
        "print(len(requisi))\n",
        "\n",
        "for c in custos:\n",
        "  for k, v in c.items():\n",
        "   for ku in qtdd.keys():\n",
        "    if v==ku:\n",
        "      #if k=='moedas':\n",
        "        print(f\"O curso de {v} custa {c['moedas']} moedas\")\n",
        "  #      c['moedas']\n",
        "print(custos[0]['moedas'])"
      ],
      "metadata": {
        "colab": {
          "base_uri": "https://localhost:8080/"
        },
        "id": "WdVIc1N4uoLo",
        "outputId": "5ab7a332-57c6-4edf-837f-e3f213a18fd6"
      },
      "execution_count": null,
      "outputs": [
        {
          "output_type": "stream",
          "name": "stdout",
          "text": [
            "{'Scrum': 2, 'Data Science': 6, 'Gestão de Projetos': 5, 'Marketing': 3, 'Cloud': 1, 'Python': 4}\n",
            "['Scrum', 'Data Science', 'Gestão de Projetos', 'Marketing', 'Cloud', 'Python']\n",
            "6\n",
            "O curso de Scrum custa 30 moedas\n",
            "O curso de Data Science custa 40 moedas\n",
            "O curso de Gestão de Projetos custa 50 moedas\n",
            "O curso de Marketing custa 30 moedas\n",
            "O curso de Cloud custa 20 moedas\n",
            "O curso de Python custa 30 moedas\n",
            "30\n"
          ]
        }
      ]
    },
    {
      "cell_type": "code",
      "execution_count": null,
      "metadata": {
        "colab": {
          "base_uri": "https://localhost:8080/"
        },
        "id": "YuMoThTvm3Qo",
        "outputId": "4f03e55d-c496-4c75-ea64-e32bf53f1c05"
      },
      "outputs": [
        {
          "output_type": "stream",
          "name": "stdout",
          "text": [
            "21\n",
            "2\n",
            "['Scrum', 'Data Science', 'Gestão de Projetos', 'Marketing', 'Cloud', 'Python', 'Python', 'Python', 'Scrum', 'Data Science', 'Gestão de Projetos', 'Marketing', 'Data Science', 'Gestão de Projetos', 'Python', 'Marketing', 'Data Science', 'Gestão de Projetos', 'Data Science', 'Gestão de Projetos', 'Data Science']\n",
            "6\n",
            "['Scrum', 'Data Science', 'Gestão de Projetos', 'Marketing', 'Cloud', 'Python', 'Python', 'Python', 'Scrum', 'Data Science', 'Gestão de Projetos', 'Marketing', 'Data Science', 'Gestão de Projetos', 'Python', 'Marketing', 'Data Science', 'Gestão de Projetos', 'Data Science', 'Gestão de Projetos', 'Data Science']\n",
            "5\n",
            "['Scrum', 'Data Science', 'Gestão de Projetos', 'Marketing', 'Cloud', 'Python', 'Python', 'Python', 'Scrum', 'Data Science', 'Gestão de Projetos', 'Marketing', 'Data Science', 'Gestão de Projetos', 'Python', 'Marketing', 'Data Science', 'Gestão de Projetos', 'Data Science', 'Gestão de Projetos', 'Data Science']\n",
            "3\n",
            "['Scrum', 'Data Science', 'Gestão de Projetos', 'Marketing', 'Cloud', 'Python', 'Python', 'Python', 'Scrum', 'Data Science', 'Gestão de Projetos', 'Marketing', 'Data Science', 'Gestão de Projetos', 'Python', 'Marketing', 'Data Science', 'Gestão de Projetos', 'Data Science', 'Gestão de Projetos', 'Data Science']\n",
            "4\n",
            "['Scrum', 'Data Science', 'Gestão de Projetos', 'Marketing', 'Cloud', 'Python', 'Python', 'Python', 'Scrum', 'Data Science', 'Gestão de Projetos', 'Marketing', 'Data Science', 'Gestão de Projetos', 'Python', 'Marketing', 'Data Science', 'Gestão de Projetos', 'Data Science', 'Gestão de Projetos', 'Data Science']\n",
            "4\n",
            "['Scrum', 'Data Science', 'Gestão de Projetos', 'Marketing', 'Cloud', 'Python', 'Python', 'Python', 'Scrum', 'Data Science', 'Gestão de Projetos', 'Marketing', 'Data Science', 'Gestão de Projetos', 'Python', 'Marketing', 'Data Science', 'Gestão de Projetos', 'Data Science', 'Gestão de Projetos', 'Data Science']\n",
            "4\n",
            "['Scrum', 'Data Science', 'Gestão de Projetos', 'Marketing', 'Cloud', 'Python', 'Python', 'Python', 'Scrum', 'Data Science', 'Gestão de Projetos', 'Marketing', 'Data Science', 'Gestão de Projetos', 'Python', 'Marketing', 'Data Science', 'Gestão de Projetos', 'Data Science', 'Gestão de Projetos', 'Data Science']\n",
            "2\n",
            "['Scrum', 'Data Science', 'Gestão de Projetos', 'Marketing', 'Cloud', 'Python', 'Python', 'Python', 'Scrum', 'Data Science', 'Gestão de Projetos', 'Marketing', 'Data Science', 'Gestão de Projetos', 'Python', 'Marketing', 'Data Science', 'Gestão de Projetos', 'Data Science', 'Gestão de Projetos', 'Data Science']\n",
            "6\n",
            "['Scrum', 'Data Science', 'Gestão de Projetos', 'Marketing', 'Cloud', 'Python', 'Python', 'Python', 'Scrum', 'Data Science', 'Gestão de Projetos', 'Marketing', 'Data Science', 'Gestão de Projetos', 'Python', 'Marketing', 'Data Science', 'Gestão de Projetos', 'Data Science', 'Gestão de Projetos', 'Data Science']\n",
            "5\n",
            "['Scrum', 'Data Science', 'Gestão de Projetos', 'Marketing', 'Cloud', 'Python', 'Python', 'Python', 'Scrum', 'Data Science', 'Gestão de Projetos', 'Marketing', 'Data Science', 'Gestão de Projetos', 'Python', 'Marketing', 'Data Science', 'Gestão de Projetos', 'Data Science', 'Gestão de Projetos', 'Data Science']\n",
            "3\n",
            "['Scrum', 'Data Science', 'Gestão de Projetos', 'Marketing', 'Cloud', 'Python', 'Python', 'Python', 'Scrum', 'Data Science', 'Gestão de Projetos', 'Marketing', 'Data Science', 'Gestão de Projetos', 'Python', 'Marketing', 'Data Science', 'Gestão de Projetos', 'Data Science', 'Gestão de Projetos', 'Data Science']\n",
            "6\n",
            "['Scrum', 'Data Science', 'Gestão de Projetos', 'Marketing', 'Cloud', 'Python', 'Python', 'Python', 'Scrum', 'Data Science', 'Gestão de Projetos', 'Marketing', 'Data Science', 'Gestão de Projetos', 'Python', 'Marketing', 'Data Science', 'Gestão de Projetos', 'Data Science', 'Gestão de Projetos', 'Data Science']\n",
            "5\n",
            "['Scrum', 'Data Science', 'Gestão de Projetos', 'Marketing', 'Cloud', 'Python', 'Python', 'Python', 'Scrum', 'Data Science', 'Gestão de Projetos', 'Marketing', 'Data Science', 'Gestão de Projetos', 'Python', 'Marketing', 'Data Science', 'Gestão de Projetos', 'Data Science', 'Gestão de Projetos', 'Data Science']\n",
            "4\n",
            "['Scrum', 'Data Science', 'Gestão de Projetos', 'Marketing', 'Cloud', 'Python', 'Python', 'Python', 'Scrum', 'Data Science', 'Gestão de Projetos', 'Marketing', 'Data Science', 'Gestão de Projetos', 'Python', 'Marketing', 'Data Science', 'Gestão de Projetos', 'Data Science', 'Gestão de Projetos', 'Data Science']\n",
            "3\n",
            "['Scrum', 'Data Science', 'Gestão de Projetos', 'Marketing', 'Cloud', 'Python', 'Python', 'Python', 'Scrum', 'Data Science', 'Gestão de Projetos', 'Marketing', 'Data Science', 'Gestão de Projetos', 'Python', 'Marketing', 'Data Science', 'Gestão de Projetos', 'Data Science', 'Gestão de Projetos', 'Data Science']\n",
            "6\n",
            "['Scrum', 'Data Science', 'Gestão de Projetos', 'Marketing', 'Cloud', 'Python', 'Python', 'Python', 'Scrum', 'Data Science', 'Gestão de Projetos', 'Marketing', 'Data Science', 'Gestão de Projetos', 'Python', 'Marketing', 'Data Science', 'Gestão de Projetos', 'Data Science', 'Gestão de Projetos', 'Data Science']\n",
            "5\n",
            "['Scrum', 'Data Science', 'Gestão de Projetos', 'Marketing', 'Cloud', 'Python', 'Python', 'Python', 'Scrum', 'Data Science', 'Gestão de Projetos', 'Marketing', 'Data Science', 'Gestão de Projetos', 'Python', 'Marketing', 'Data Science', 'Gestão de Projetos', 'Data Science', 'Gestão de Projetos', 'Data Science']\n",
            "6\n",
            "['Scrum', 'Data Science', 'Gestão de Projetos', 'Marketing', 'Cloud', 'Python', 'Python', 'Python', 'Scrum', 'Data Science', 'Gestão de Projetos', 'Marketing', 'Data Science', 'Gestão de Projetos', 'Python', 'Marketing', 'Data Science', 'Gestão de Projetos', 'Data Science', 'Gestão de Projetos', 'Data Science']\n",
            "5\n",
            "['Scrum', 'Data Science', 'Gestão de Projetos', 'Marketing', 'Cloud', 'Python', 'Python', 'Python', 'Scrum', 'Data Science', 'Gestão de Projetos', 'Marketing', 'Data Science', 'Gestão de Projetos', 'Python', 'Marketing', 'Data Science', 'Gestão de Projetos', 'Data Science', 'Gestão de Projetos', 'Data Science']\n",
            "6\n",
            "['Scrum', 'Data Science', 'Gestão de Projetos', 'Marketing', 'Cloud', 'Python', 'Python', 'Python', 'Scrum', 'Data Science', 'Gestão de Projetos', 'Marketing', 'Data Science', 'Gestão de Projetos', 'Python', 'Marketing', 'Data Science', 'Gestão de Projetos', 'Data Science', 'Gestão de Projetos', 'Data Science']\n",
            "['Scrum', 'Data Science', 'Gestão de Projetos', 'Marketing', 'Cloud', 'Python', 'Python', 'Python', 'Scrum', 'Data Science', 'Gestão de Projetos', 'Marketing', 'Data Science', 'Gestão de Projetos', 'Python', 'Marketing', 'Data Science', 'Gestão de Projetos', 'Data Science', 'Gestão de Projetos', 'Data Science']\n",
            "{'Scrum': 2, 'Data Science': 6, 'Gestão de Projetos': 5, 'Marketing': 3, 'Cloud': 1, 'Python': 4}\n"
          ]
        }
      ],
      "source": [
        "budget=150\n",
        "custo= [{'treinamento':'Scrum','moedas':30}, {'treinamento':'Data Science','moedas':40}, {'treinamento':'Gestão de Projetos','moedas':50}, {'treinamento':'Marketing','moedas':30}, {'treinamento':'Cloud','moedas':20}, {'treinamento':'Blockchain','moedas':10}, {'treinamento':'Python','moedas':30}]\n",
        "requisi= ['Scrum','Data Science','Gestão de Projetos','Marketing','Cloud','Python','Python','Python', 'Scrum','Data Science','Gestão de Projetos','Marketing','Data Science','Gestão de Projetos', 'Python','Marketing','Data Science','Gestão de Projetos','Data Science','Gestão de Projetos','Data Science']\n",
        "print(len(requisi))\n",
        "qtd = {}\n",
        "for ind, r in enumerate(requisi):\n",
        "   qtd[r]= requisi.count(r)\n",
        "   #for k, v in qtd.items():\n",
        "   if qtd[r]>1:\n",
        "       print(qtd[r])\n",
        "       print(requisi)\n",
        "print(requisi)\n",
        "print(qtd)"
      ]
    },
    {
      "cell_type": "markdown",
      "source": [
        "# Prova Certificado"
      ],
      "metadata": {
        "id": "4nF0a97CsMiz"
      }
    },
    {
      "cell_type": "code",
      "source": [
        "dicionario={'pessoa_1':{'nome':'Peterson','sobrenome':'Almeida'}, 'pessoa_2':{'nome':'Maria','sobrenome':'Silva'}, 'pessoa_3':{'nome':'Jose','sobrenome':'Santos'}}\n",
        "nome_completo=[]\n",
        "for a,b in dicionario.items():\n",
        "  nome_completo.append(str(b['nome']) + str(b['sobrenome']))\n",
        "  print(nome_completo)"
      ],
      "metadata": {
        "id": "8G4AF0kBsZAD"
      },
      "execution_count": null,
      "outputs": []
    },
    {
      "cell_type": "code",
      "source": [
        "t1 = ('Banana', 'Abacate', 'Morango') #tupla\n",
        "posicao = t1.index('Morango')\n",
        "terceiroelemento = t1[3]\n",
        "print(posicao, terceiroelemento)"
      ],
      "metadata": {
        "id": "qCyezVlzsfXW"
      },
      "execution_count": null,
      "outputs": []
    },
    {
      "cell_type": "code",
      "source": [
        "def contador_x (lista1, lista2,x):\n",
        " contador=0\n",
        " for a,b in zip(lista1, lista2):\n",
        "   if a==x and b==x:\n",
        "    break\n",
        "   else:\n",
        "     contador+=1\n",
        " return contador\n",
        "\n",
        "\n",
        "b=['dnc', 'cds', 'dn']\n",
        "a=['dnc']\n",
        "contador_x(a,b,'dnc')\n",
        "\n"
      ],
      "metadata": {
        "id": "i7VqYGQesUfx"
      },
      "execution_count": null,
      "outputs": []
    }
  ]
}